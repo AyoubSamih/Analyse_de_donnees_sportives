{
 "cells": [
  {
   "cell_type": "code",
   "execution_count": 1,
   "id": "ba3326f0",
   "metadata": {},
   "outputs": [
    {
     "name": "stdout",
     "output_type": "stream",
     "text": [
      "package 'randomForest' successfully unpacked and MD5 sums checked\n",
      "\n",
      "The downloaded binary packages are in\n",
      "\tC:\\Users\\lahlo\\AppData\\Local\\Temp\\RtmpwdVb2V\\downloaded_packages\n"
     ]
    }
   ],
   "source": [
    "install.packages('randomForest')"
   ]
  },
  {
   "cell_type": "code",
   "execution_count": 4,
   "id": "a5f15b41",
   "metadata": {},
   "outputs": [
    {
     "ename": "ERROR",
     "evalue": "Error in library(\"xlsx\"): aucun package nommé 'xlsx' n'est trouvé\n",
     "output_type": "error",
     "traceback": [
      "Error in library(\"xlsx\"): aucun package nommé 'xlsx' n'est trouvé\nTraceback:\n",
      "1. library(\"xlsx\")"
     ]
    }
   ],
   "source": [
    "library('randomForest')\n"
   ]
  },
  {
   "cell_type": "code",
   "execution_count": 6,
   "id": "dc125560",
   "metadata": {},
   "outputs": [
    {
     "name": "stdout",
     "output_type": "stream",
     "text": [
      "package 'xlsx' successfully unpacked and MD5 sums checked\n",
      "\n",
      "The downloaded binary packages are in\n",
      "\tC:\\Users\\lahlo\\AppData\\Local\\Temp\\RtmpwdVb2V\\downloaded_packages\n"
     ]
    },
    {
     "name": "stderr",
     "output_type": "stream",
     "text": [
      "Warning message:\n",
      "\"le package 'xlsx' a été compilé avec la version R 4.1.3\"\n"
     ]
    }
   ],
   "source": [
    "install.packages('xlsx')\n",
    "library('xlsx')"
   ]
  },
  {
   "cell_type": "code",
   "execution_count": 37,
   "id": "21e89b3d",
   "metadata": {
    "scrolled": true
   },
   "outputs": [
    {
     "data": {
      "text/plain": [
       "   tabdensity        moyenne      tabtransitivity   tabdiameter   \n",
       " Min.   :0.5199   Min.   :31.79   Min.   :0.7694   Min.   :2.000  \n",
       " 1st Qu.:0.6712   1st Qu.:37.21   1st Qu.:0.8507   1st Qu.:2.000  \n",
       " Median :0.7227   Median :39.42   Median :0.8733   Median :3.000  \n",
       " Mean   :0.7214   Mean   :39.33   Mean   :0.8707   Mean   :2.597  \n",
       " 3rd Qu.:0.7755   3rd Qu.:41.45   3rd Qu.:0.8989   3rd Qu.:3.000  \n",
       " Max.   :0.8933   Max.   :49.68   Max.   :0.9634   Max.   :4.000  \n",
       "    nbpoints      medianedegree   ecartypedegree    medianebetw     \n",
       " Min.   : 20.00   Min.   :36.50   Min.   : 8.599   Min.   : 0.7029  \n",
       " 1st Qu.: 41.00   1st Qu.:41.75   1st Qu.:10.812   1st Qu.: 3.5065  \n",
       " Median : 49.00   Median :43.25   Median :12.489   Median : 5.1408  \n",
       " Mean   : 51.82   Mean   :43.49   Mean   :12.640   Mean   : 4.9638  \n",
       " 3rd Qu.: 58.00   3rd Qu.:45.50   3rd Qu.:14.181   3rd Qu.: 6.1164  \n",
       " Max.   :100.00   Max.   :50.00   Max.   :17.846   Max.   :10.6635  \n",
       "  ecartypebetw      betweeness    \n",
       " Min.   : 2.409   Min.   : 2.360  \n",
       " 1st Qu.: 6.069   1st Qu.: 5.770  \n",
       " Median : 8.521   Median : 7.747  \n",
       " Mean   : 9.185   Mean   : 7.924  \n",
       " 3rd Qu.:11.665   3rd Qu.: 9.542  \n",
       " Max.   :22.664   Max.   :16.541  "
      ]
     },
     "metadata": {},
     "output_type": "display_data"
    }
   ],
   "source": [
    "tabfinal <- read.xlsx('/Users/lahlo/Documents/TableauIndicateur.xlsx',1)\n",
    "tabfinal <- tabfinal[2:11]\n",
    "summary(tabfinal)\n"
   ]
  },
  {
   "cell_type": "code",
   "execution_count": 45,
   "id": "1a6e73b7",
   "metadata": {},
   "outputs": [],
   "source": [
    "#tabfinal[1]"
   ]
  },
  {
   "cell_type": "code",
   "execution_count": 40,
   "id": "178115d8",
   "metadata": {
    "scrolled": true
   },
   "outputs": [
    {
     "name": "stdout",
     "output_type": "stream",
     "text": [
      "\n",
      "Call:\n",
      " randomForest(formula = nbpoints ~ ., data = tabfinal, ntree = 500,      na.action = na.omit) \n",
      "               Type of random forest: regression\n",
      "                     Number of trees: 500\n",
      "No. of variables tried at each split: 3\n",
      "\n",
      "          Mean of squared residuals: 364.1615\n",
      "                    % Var explained: -23.71\n"
     ]
    }
   ],
   "source": [
    "tab_RandomForest <- randomForest(nbpoints~.,data=tabfinal, ntree = 500, na.action = na.omit)\n",
    "print(tab_RandomForest)"
   ]
  },
  {
   "cell_type": "code",
   "execution_count": 41,
   "id": "cbd8acbd",
   "metadata": {},
   "outputs": [
    {
     "data": {
      "text/html": [
       "<style>\n",
       ".list-inline {list-style: none; margin:0; padding: 0}\n",
       ".list-inline>li {display: inline-block}\n",
       ".list-inline>li:not(:last-child)::after {content: \"\\00b7\"; padding: 0 .5ex}\n",
       "</style>\n",
       "<ol class=list-inline><li>187</li><li>178</li><li>191</li><li>189</li><li>193</li><li>173</li><li>172</li><li>166</li><li>184</li><li>189</li><li>161</li><li>171</li><li>185</li><li>190</li><li>185</li><li>181</li><li>201</li><li>188</li><li>196</li><li>195</li><li>193</li><li>170</li><li>178</li><li>185</li><li>196</li><li>197</li><li>177</li><li>187</li><li>200</li><li>205</li><li>169</li><li>179</li><li>179</li><li>199</li><li>199</li><li>176</li><li>178</li><li>177</li><li>184</li><li>180</li><li>175</li><li>173</li><li>162</li><li>181</li><li>184</li><li>193</li><li>182</li><li>188</li><li>189</li><li>171</li><li>177</li><li>198</li><li>210</li><li>204</li><li>157</li><li>188</li><li>171</li><li>175</li><li>183</li><li>171</li><li>174</li><li>177</li><li>198</li><li>184</li><li>187</li><li>179</li><li>175</li><li>168</li><li>199</li><li>177</li><li>170</li><li>178</li></ol>\n"
      ],
      "text/latex": [
       "\\begin{enumerate*}\n",
       "\\item 187\n",
       "\\item 178\n",
       "\\item 191\n",
       "\\item 189\n",
       "\\item 193\n",
       "\\item 173\n",
       "\\item 172\n",
       "\\item 166\n",
       "\\item 184\n",
       "\\item 189\n",
       "\\item 161\n",
       "\\item 171\n",
       "\\item 185\n",
       "\\item 190\n",
       "\\item 185\n",
       "\\item 181\n",
       "\\item 201\n",
       "\\item 188\n",
       "\\item 196\n",
       "\\item 195\n",
       "\\item 193\n",
       "\\item 170\n",
       "\\item 178\n",
       "\\item 185\n",
       "\\item 196\n",
       "\\item 197\n",
       "\\item 177\n",
       "\\item 187\n",
       "\\item 200\n",
       "\\item 205\n",
       "\\item 169\n",
       "\\item 179\n",
       "\\item 179\n",
       "\\item 199\n",
       "\\item 199\n",
       "\\item 176\n",
       "\\item 178\n",
       "\\item 177\n",
       "\\item 184\n",
       "\\item 180\n",
       "\\item 175\n",
       "\\item 173\n",
       "\\item 162\n",
       "\\item 181\n",
       "\\item 184\n",
       "\\item 193\n",
       "\\item 182\n",
       "\\item 188\n",
       "\\item 189\n",
       "\\item 171\n",
       "\\item 177\n",
       "\\item 198\n",
       "\\item 210\n",
       "\\item 204\n",
       "\\item 157\n",
       "\\item 188\n",
       "\\item 171\n",
       "\\item 175\n",
       "\\item 183\n",
       "\\item 171\n",
       "\\item 174\n",
       "\\item 177\n",
       "\\item 198\n",
       "\\item 184\n",
       "\\item 187\n",
       "\\item 179\n",
       "\\item 175\n",
       "\\item 168\n",
       "\\item 199\n",
       "\\item 177\n",
       "\\item 170\n",
       "\\item 178\n",
       "\\end{enumerate*}\n"
      ],
      "text/markdown": [
       "1. 187\n",
       "2. 178\n",
       "3. 191\n",
       "4. 189\n",
       "5. 193\n",
       "6. 173\n",
       "7. 172\n",
       "8. 166\n",
       "9. 184\n",
       "10. 189\n",
       "11. 161\n",
       "12. 171\n",
       "13. 185\n",
       "14. 190\n",
       "15. 185\n",
       "16. 181\n",
       "17. 201\n",
       "18. 188\n",
       "19. 196\n",
       "20. 195\n",
       "21. 193\n",
       "22. 170\n",
       "23. 178\n",
       "24. 185\n",
       "25. 196\n",
       "26. 197\n",
       "27. 177\n",
       "28. 187\n",
       "29. 200\n",
       "30. 205\n",
       "31. 169\n",
       "32. 179\n",
       "33. 179\n",
       "34. 199\n",
       "35. 199\n",
       "36. 176\n",
       "37. 178\n",
       "38. 177\n",
       "39. 184\n",
       "40. 180\n",
       "41. 175\n",
       "42. 173\n",
       "43. 162\n",
       "44. 181\n",
       "45. 184\n",
       "46. 193\n",
       "47. 182\n",
       "48. 188\n",
       "49. 189\n",
       "50. 171\n",
       "51. 177\n",
       "52. 198\n",
       "53. 210\n",
       "54. 204\n",
       "55. 157\n",
       "56. 188\n",
       "57. 171\n",
       "58. 175\n",
       "59. 183\n",
       "60. 171\n",
       "61. 174\n",
       "62. 177\n",
       "63. 198\n",
       "64. 184\n",
       "65. 187\n",
       "66. 179\n",
       "67. 175\n",
       "68. 168\n",
       "69. 199\n",
       "70. 177\n",
       "71. 170\n",
       "72. 178\n",
       "\n",
       "\n"
      ],
      "text/plain": [
       " [1] 187 178 191 189 193 173 172 166 184 189 161 171 185 190 185 181 201 188 196\n",
       "[20] 195 193 170 178 185 196 197 177 187 200 205 169 179 179 199 199 176 178 177\n",
       "[39] 184 180 175 173 162 181 184 193 182 188 189 171 177 198 210 204 157 188 171\n",
       "[58] 175 183 171 174 177 198 184 187 179 175 168 199 177 170 178"
      ]
     },
     "metadata": {},
     "output_type": "display_data"
    }
   ],
   "source": [
    "tab_RandomForest$oob.time"
   ]
  },
  {
   "cell_type": "code",
   "execution_count": 42,
   "id": "a4466583",
   "metadata": {},
   "outputs": [
    {
     "data": {
      "image/png": "[encoded data removed]",
      "text/plain": [
       "Plot with title \"tab_RandomForest\""
      ]
     },
     "metadata": {
      "image/png": {
       "height": 420,
       "width": 420
      }
     },
     "output_type": "display_data"
    }
   ],
   "source": [
    "varImpPlot(tab_RandomForest)"
   ]
  },
  {
   "cell_type": "code",
   "execution_count": 57,
   "id": "6f8e0f53",
   "metadata": {},
   "outputs": [
    {
     "data": {
      "text/plain": [
       "\n",
       "Call:\n",
       " randomForest(formula = nbpoints ~ ., data = tabfinal, ntree = 1000,      mtry = 3, keep.forest = FALSE, importance = TRUE) \n",
       "               Type of random forest: regression\n",
       "                     Number of trees: 1000\n",
       "No. of variables tried at each split: 3\n",
       "\n",
       "          Mean of squared residuals: 359.2728\n",
       "                    % Var explained: -22.05"
      ]
     },
     "metadata": {},
     "output_type": "display_data"
    }
   ],
   "source": [
    "#library(randomForest)\n",
    "#library(ggplot2)\n",
    "\n",
    "set.seed(4543)\n",
    "#data(mtcars)\n",
    "rf.fit <- randomForest(nbpoints ~ ., data=tabfinal, ntree=1000, mtry=3,\n",
    "                       keep.forest=FALSE, importance=TRUE)\n",
    "rf.fit"
   ]
  },
  {
   "cell_type": "code",
   "execution_count": 58,
   "id": "69354f2e",
   "metadata": {},
   "outputs": [
    {
     "data": {
      "image/png": "[encoded data removed]",
      "text/plain": [
       "plot without title"
      ]
     },
     "metadata": {
      "image/png": {
       "height": 420,
       "width": 420
      }
     },
     "output_type": "display_data"
    }
   ],
   "source": [
    "### Visualize variable importance ----------------------------------------------\n",
    "\n",
    "# Get variable importance from the model fit\n",
    "ImpData <- as.data.frame(importance(rf.fit))\n",
    "ImpData$Var.Names <- row.names(ImpData)\n",
    "\n",
    "ggplot(ImpData, aes(x=Var.Names, y=`%IncMSE`)) +\n",
    "  geom_segment( aes(x=Var.Names, xend=Var.Names, y=0, yend=`%IncMSE`), color=\"skyblue\") +\n",
    "  geom_point(aes(size = IncNodePurity), color=\"blue\", alpha=0.6) +\n",
    "  theme_light() +\n",
    "  coord_flip() +\n",
    "  theme(\n",
    "    legend.position=\"bottom\",\n",
    "    panel.grid.major.y = element_blank(),\n",
    "    panel.border = element_blank(),\n",
    "    axis.ticks.y = element_blank()\n",
    "  )"
   ]
  },
  {
   "cell_type": "code",
   "execution_count": null,
   "id": "5bb876aa",
   "metadata": {},
   "outputs": [],
   "source": []
  },
  {
   "cell_type": "code",
   "execution_count": null,
   "id": "16c628d8",
   "metadata": {},
   "outputs": [],
   "source": []
  },
  {
   "cell_type": "code",
   "execution_count": null,
   "id": "0bd778e8",
   "metadata": {},
   "outputs": [],
   "source": []
  }
 ],
 "metadata": {
  "kernelspec": {
   "display_name": "R",
   "language": "R",
   "name": "ir"
  },
  "language_info": {
   "codemirror_mode": "r",
   "file_extension": ".r",
   "mimetype": "text/x-r-source",
   "name": "R",
   "pygments_lexer": "r",
   "version": "4.1.2"
  }
 },
 "nbformat": 4,
 "nbformat_minor": 5
}
